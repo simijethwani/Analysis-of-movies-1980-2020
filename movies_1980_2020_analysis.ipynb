{
 "cells": [
  {
   "cell_type": "markdown",
   "id": "d6cef966-21df-450e-a550-4f9f210ab2dc",
   "metadata": {},
   "source": [
    "# Importing Libraries"
   ]
  },
  {
   "cell_type": "code",
   "execution_count": 5,
   "id": "2b0fb6c6-764c-4539-8830-809393647642",
   "metadata": {},
   "outputs": [],
   "source": [
    "import pandas as pd\n",
    "import numpy as np\n",
    "import matplotlib.pyplot as plt\n",
    "import seaborn as sns\n",
    "# Make float values look better\n",
    "# We will use USA and UK format system\n",
    "pd.options.display.float_format = '{:,.1f}'.format\n",
    "sns.set_style('darkgrid')\n",
    "sns.set_palette(\"Set2\")"
   ]
  },
  {
   "cell_type": "markdown",
   "id": "e72aa451-d5e1-462d-ac5e-2a190e03bdf3",
   "metadata": {},
   "source": [
    "# Importing Data"
   ]
  },
  {
   "cell_type": "code",
   "execution_count": 34,
   "id": "dfa8bd8d-aad6-4705-89bd-994b179672f9",
   "metadata": {},
   "outputs": [],
   "source": [
    "mov = pd.read_csv(\"movies_1980_2020_30k.csv\")"
   ]
  },
  {
   "cell_type": "code",
   "execution_count": 35,
   "id": "c0fcbc41-7dcd-42f9-b72f-665ef729054e",
   "metadata": {},
   "outputs": [
    {
     "data": {
      "text/html": [
       "<div>\n",
       "<style scoped>\n",
       "    .dataframe tbody tr th:only-of-type {\n",
       "        vertical-align: middle;\n",
       "    }\n",
       "\n",
       "    .dataframe tbody tr th {\n",
       "        vertical-align: top;\n",
       "    }\n",
       "\n",
       "    .dataframe thead th {\n",
       "        text-align: right;\n",
       "    }\n",
       "</style>\n",
       "<table border=\"1\" class=\"dataframe\">\n",
       "  <thead>\n",
       "    <tr style=\"text-align: right;\">\n",
       "      <th></th>\n",
       "      <th>Title</th>\n",
       "      <th>Director</th>\n",
       "      <th>Genre</th>\n",
       "      <th>Release Date</th>\n",
       "      <th>Duration</th>\n",
       "      <th>Rating</th>\n",
       "    </tr>\n",
       "  </thead>\n",
       "  <tbody>\n",
       "    <tr>\n",
       "      <th>0</th>\n",
       "      <td>Key entire popular.</td>\n",
       "      <td>Anthony Becker</td>\n",
       "      <td>Horror</td>\n",
       "      <td>1981-05-12</td>\n",
       "      <td>102</td>\n",
       "      <td>6.8</td>\n",
       "    </tr>\n",
       "    <tr>\n",
       "      <th>1</th>\n",
       "      <td>Gun husband reveal.</td>\n",
       "      <td>William Johnson</td>\n",
       "      <td>Documentary</td>\n",
       "      <td>2016-06-13</td>\n",
       "      <td>92</td>\n",
       "      <td>7.6</td>\n",
       "    </tr>\n",
       "    <tr>\n",
       "      <th>2</th>\n",
       "      <td>Crime cover.</td>\n",
       "      <td>Amy Le</td>\n",
       "      <td>Drama</td>\n",
       "      <td>1988-03-22</td>\n",
       "      <td>144</td>\n",
       "      <td>5.5</td>\n",
       "    </tr>\n",
       "    <tr>\n",
       "      <th>3</th>\n",
       "      <td>Challenge.</td>\n",
       "      <td>Andrea Martinez</td>\n",
       "      <td>Romance</td>\n",
       "      <td>2013-04-01</td>\n",
       "      <td>161</td>\n",
       "      <td>2.0</td>\n",
       "    </tr>\n",
       "    <tr>\n",
       "      <th>4</th>\n",
       "      <td>Close study.</td>\n",
       "      <td>Michael Rodgers</td>\n",
       "      <td>Fantasy</td>\n",
       "      <td>2012-10-18</td>\n",
       "      <td>177</td>\n",
       "      <td>3.7</td>\n",
       "    </tr>\n",
       "  </tbody>\n",
       "</table>\n",
       "</div>"
      ],
      "text/plain": [
       "                 Title         Director        Genre Release Date  Duration  \\\n",
       "0  Key entire popular.   Anthony Becker       Horror   1981-05-12       102   \n",
       "1  Gun husband reveal.  William Johnson  Documentary   2016-06-13        92   \n",
       "2         Crime cover.           Amy Le        Drama   1988-03-22       144   \n",
       "3           Challenge.  Andrea Martinez      Romance   2013-04-01       161   \n",
       "4         Close study.  Michael Rodgers      Fantasy   2012-10-18       177   \n",
       "\n",
       "   Rating  \n",
       "0     6.8  \n",
       "1     7.6  \n",
       "2     5.5  \n",
       "3     2.0  \n",
       "4     3.7  "
      ]
     },
     "execution_count": 35,
     "metadata": {},
     "output_type": "execute_result"
    }
   ],
   "source": [
    "mov.head()"
   ]
  },
  {
   "cell_type": "markdown",
   "id": "b55a8c46-533b-4858-bad5-d14c6d4166e1",
   "metadata": {},
   "source": [
    "# Description of Data"
   ]
  },
  {
   "cell_type": "code",
   "execution_count": 8,
   "id": "dd079b99-1f3d-424c-9052-8abebe27a421",
   "metadata": {},
   "outputs": [
    {
     "name": "stdout",
     "output_type": "stream",
     "text": [
      "<class 'pandas.core.frame.DataFrame'>\n",
      "RangeIndex: 30000 entries, 0 to 29999\n",
      "Data columns (total 6 columns):\n",
      " #   Column        Non-Null Count  Dtype  \n",
      "---  ------        --------------  -----  \n",
      " 0   Title         30000 non-null  object \n",
      " 1   Director      30000 non-null  object \n",
      " 2   Genre         30000 non-null  object \n",
      " 3   Release Date  30000 non-null  object \n",
      " 4   Duration      30000 non-null  int64  \n",
      " 5   Rating        30000 non-null  float64\n",
      "dtypes: float64(1), int64(1), object(4)\n",
      "memory usage: 1.4+ MB\n"
     ]
    }
   ],
   "source": [
    "mov.info()"
   ]
  },
  {
   "cell_type": "code",
   "execution_count": 9,
   "id": "21fee77d-dbe0-48e4-a8e5-c0764c51c417",
   "metadata": {},
   "outputs": [
    {
     "data": {
      "text/plain": [
       "(30000, 6)"
      ]
     },
     "execution_count": 9,
     "metadata": {},
     "output_type": "execute_result"
    }
   ],
   "source": [
    "mov.shape"
   ]
  },
  {
   "cell_type": "markdown",
   "id": "e892a434-85b8-4a55-bcfe-c83cbc5d38c8",
   "metadata": {},
   "source": [
    "# Data Preparation"
   ]
  },
  {
   "cell_type": "code",
   "execution_count": 10,
   "id": "f090888f-9113-4a9b-bbd5-cda4750d554b",
   "metadata": {
    "scrolled": true
   },
   "outputs": [
    {
     "data": {
      "text/plain": [
       "Title           0\n",
       "Director        0\n",
       "Genre           0\n",
       "Release Date    0\n",
       "Duration        0\n",
       "Rating          0\n",
       "dtype: int64"
      ]
     },
     "execution_count": 10,
     "metadata": {},
     "output_type": "execute_result"
    }
   ],
   "source": [
    "mov.isnull().sum()"
   ]
  },
  {
   "cell_type": "markdown",
   "id": "256a067a-dd64-4e56-b709-f7db2047f803",
   "metadata": {},
   "source": [
    "# Analysing the Data"
   ]
  },
  {
   "cell_type": "markdown",
   "id": "a75034a5-110d-4006-a852-4ac124339818",
   "metadata": {},
   "source": [
    "# Checking titles of films with rating of 9 to 10"
   ]
  },
  {
   "cell_type": "code",
   "execution_count": 11,
   "id": "5c65b224-a4a9-4116-8a53-afb7b4ba110c",
   "metadata": {},
   "outputs": [
    {
     "data": {
      "text/plain": [
       "14       Check study issue.\n",
       "15              Safe group.\n",
       "30         Movement inside.\n",
       "39        Thought increase.\n",
       "53       Never night laugh.\n",
       "                ...        \n",
       "29924        Serve someone.\n",
       "29932         Health color.\n",
       "29944        Hard maintain.\n",
       "29952        Natural child.\n",
       "29988       Situation baby.\n",
       "Name: Title, Length: 3519, dtype: object"
      ]
     },
     "execution_count": 11,
     "metadata": {},
     "output_type": "execute_result"
    }
   ],
   "source": [
    "mov[(mov['Rating'] >= 9.0) & (mov['Rating'] <= 10.0 )]['Title']"
   ]
  },
  {
   "cell_type": "markdown",
   "id": "b64eb02e-2ae4-4b65-9df6-07902c671464",
   "metadata": {},
   "source": [
    "# Checking films with minimum rating"
   ]
  },
  {
   "cell_type": "code",
   "execution_count": 12,
   "id": "ca2a54a1-72d7-4148-a7ae-da0c3f236b08",
   "metadata": {},
   "outputs": [
    {
     "data": {
      "text/html": [
       "<div>\n",
       "<style scoped>\n",
       "    .dataframe tbody tr th:only-of-type {\n",
       "        vertical-align: middle;\n",
       "    }\n",
       "\n",
       "    .dataframe tbody tr th {\n",
       "        vertical-align: top;\n",
       "    }\n",
       "\n",
       "    .dataframe thead th {\n",
       "        text-align: right;\n",
       "    }\n",
       "</style>\n",
       "<table border=\"1\" class=\"dataframe\">\n",
       "  <thead>\n",
       "    <tr style=\"text-align: right;\">\n",
       "      <th></th>\n",
       "      <th>Title</th>\n",
       "      <th>Director</th>\n",
       "      <th>Genre</th>\n",
       "      <th>Release Date</th>\n",
       "      <th>Duration</th>\n",
       "      <th>Rating</th>\n",
       "    </tr>\n",
       "  </thead>\n",
       "  <tbody>\n",
       "    <tr>\n",
       "      <th>82</th>\n",
       "      <td>Third.</td>\n",
       "      <td>Stephen Charles</td>\n",
       "      <td>Sci-Fi</td>\n",
       "      <td>1982-06-04</td>\n",
       "      <td>179</td>\n",
       "      <td>1.0</td>\n",
       "    </tr>\n",
       "    <tr>\n",
       "      <th>166</th>\n",
       "      <td>But including.</td>\n",
       "      <td>Dennis Morales</td>\n",
       "      <td>Sci-Fi</td>\n",
       "      <td>1995-08-23</td>\n",
       "      <td>144</td>\n",
       "      <td>1.0</td>\n",
       "    </tr>\n",
       "    <tr>\n",
       "      <th>805</th>\n",
       "      <td>Live service hear.</td>\n",
       "      <td>Stacy Flores</td>\n",
       "      <td>Thriller</td>\n",
       "      <td>1994-07-22</td>\n",
       "      <td>134</td>\n",
       "      <td>1.0</td>\n",
       "    </tr>\n",
       "    <tr>\n",
       "      <th>1144</th>\n",
       "      <td>Top forward class.</td>\n",
       "      <td>Thomas Jenkins</td>\n",
       "      <td>Sci-Fi</td>\n",
       "      <td>2016-10-26</td>\n",
       "      <td>70</td>\n",
       "      <td>1.0</td>\n",
       "    </tr>\n",
       "    <tr>\n",
       "      <th>1194</th>\n",
       "      <td>Cell understand.</td>\n",
       "      <td>Jennifer Williams</td>\n",
       "      <td>Adventure</td>\n",
       "      <td>1999-07-16</td>\n",
       "      <td>102</td>\n",
       "      <td>1.0</td>\n",
       "    </tr>\n",
       "    <tr>\n",
       "      <th>...</th>\n",
       "      <td>...</td>\n",
       "      <td>...</td>\n",
       "      <td>...</td>\n",
       "      <td>...</td>\n",
       "      <td>...</td>\n",
       "      <td>...</td>\n",
       "    </tr>\n",
       "    <tr>\n",
       "      <th>29340</th>\n",
       "      <td>Consumer raise certainly matter.</td>\n",
       "      <td>Samuel Terry</td>\n",
       "      <td>Comedy</td>\n",
       "      <td>2016-01-10</td>\n",
       "      <td>81</td>\n",
       "      <td>1.0</td>\n",
       "    </tr>\n",
       "    <tr>\n",
       "      <th>29847</th>\n",
       "      <td>Other order social commercial.</td>\n",
       "      <td>Susan Moore</td>\n",
       "      <td>Horror</td>\n",
       "      <td>2002-05-22</td>\n",
       "      <td>100</td>\n",
       "      <td>1.0</td>\n",
       "    </tr>\n",
       "    <tr>\n",
       "      <th>29904</th>\n",
       "      <td>Walk total probably.</td>\n",
       "      <td>Barbara Morgan</td>\n",
       "      <td>Drama</td>\n",
       "      <td>2009-11-24</td>\n",
       "      <td>137</td>\n",
       "      <td>1.0</td>\n",
       "    </tr>\n",
       "    <tr>\n",
       "      <th>29935</th>\n",
       "      <td>Word pretty program.</td>\n",
       "      <td>Evan Allen</td>\n",
       "      <td>Action</td>\n",
       "      <td>2002-04-04</td>\n",
       "      <td>94</td>\n",
       "      <td>1.0</td>\n",
       "    </tr>\n",
       "    <tr>\n",
       "      <th>29956</th>\n",
       "      <td>Raise kitchen subject.</td>\n",
       "      <td>Michelle Maldonado</td>\n",
       "      <td>Horror</td>\n",
       "      <td>1999-07-29</td>\n",
       "      <td>160</td>\n",
       "      <td>1.0</td>\n",
       "    </tr>\n",
       "  </tbody>\n",
       "</table>\n",
       "<p>179 rows × 6 columns</p>\n",
       "</div>"
      ],
      "text/plain": [
       "                                  Title            Director      Genre  \\\n",
       "82                               Third.     Stephen Charles     Sci-Fi   \n",
       "166                      But including.      Dennis Morales     Sci-Fi   \n",
       "805                  Live service hear.        Stacy Flores   Thriller   \n",
       "1144                 Top forward class.      Thomas Jenkins     Sci-Fi   \n",
       "1194                   Cell understand.   Jennifer Williams  Adventure   \n",
       "...                                 ...                 ...        ...   \n",
       "29340  Consumer raise certainly matter.        Samuel Terry     Comedy   \n",
       "29847    Other order social commercial.         Susan Moore     Horror   \n",
       "29904              Walk total probably.      Barbara Morgan      Drama   \n",
       "29935              Word pretty program.          Evan Allen     Action   \n",
       "29956            Raise kitchen subject.  Michelle Maldonado     Horror   \n",
       "\n",
       "      Release Date  Duration  Rating  \n",
       "82      1982-06-04       179     1.0  \n",
       "166     1995-08-23       144     1.0  \n",
       "805     1994-07-22       134     1.0  \n",
       "1144    2016-10-26        70     1.0  \n",
       "1194    1999-07-16       102     1.0  \n",
       "...            ...       ...     ...  \n",
       "29340   2016-01-10        81     1.0  \n",
       "29847   2002-05-22       100     1.0  \n",
       "29904   2009-11-24       137     1.0  \n",
       "29935   2002-04-04        94     1.0  \n",
       "29956   1999-07-29       160     1.0  \n",
       "\n",
       "[179 rows x 6 columns]"
      ]
     },
     "execution_count": 12,
     "metadata": {},
     "output_type": "execute_result"
    }
   ],
   "source": [
    "mov[mov['Rating'] == mov['Rating'].min()]"
   ]
  },
  {
   "cell_type": "markdown",
   "id": "757ff3a5-360c-402e-824b-ac8ce766da5e",
   "metadata": {},
   "source": [
    "# How many films of each genre"
   ]
  },
  {
   "cell_type": "code",
   "execution_count": 13,
   "id": "4ae52130-385e-4abe-a885-85ecb9091580",
   "metadata": {},
   "outputs": [
    {
     "data": {
      "text/plain": [
       "Genre\n",
       "Fantasy        3047\n",
       "Horror         3027\n",
       "Sci-Fi         3019\n",
       "Action         3019\n",
       "Thriller       3014\n",
       "Romance        2991\n",
       "Adventure      2990\n",
       "Drama          2982\n",
       "Comedy         2969\n",
       "Documentary    2942\n",
       "Name: count, dtype: int64"
      ]
     },
     "execution_count": 13,
     "metadata": {},
     "output_type": "execute_result"
    }
   ],
   "source": [
    "mov['Genre'].value_counts()"
   ]
  },
  {
   "cell_type": "markdown",
   "id": "44419c7d-9d4b-4c3b-8f40-43188dad7779",
   "metadata": {},
   "source": [
    "# films of each year that were a hit i.e. their rating were between 8 to 10 "
   ]
  },
  {
   "cell_type": "code",
   "execution_count": 14,
   "id": "2f95d62a-5d53-4da6-9719-6630a81c804e",
   "metadata": {},
   "outputs": [],
   "source": [
    "mov['Release Year'] = mov['Release Date'].apply(lambda x:x[0:4])"
   ]
  },
  {
   "cell_type": "code",
   "execution_count": 15,
   "id": "1b4477b3-3e5f-47b8-9963-90c6c1d5c93f",
   "metadata": {},
   "outputs": [
    {
     "data": {
      "text/html": [
       "<div>\n",
       "<style scoped>\n",
       "    .dataframe tbody tr th:only-of-type {\n",
       "        vertical-align: middle;\n",
       "    }\n",
       "\n",
       "    .dataframe tbody tr th {\n",
       "        vertical-align: top;\n",
       "    }\n",
       "\n",
       "    .dataframe thead th {\n",
       "        text-align: right;\n",
       "    }\n",
       "</style>\n",
       "<table border=\"1\" class=\"dataframe\">\n",
       "  <thead>\n",
       "    <tr style=\"text-align: right;\">\n",
       "      <th></th>\n",
       "      <th>Title</th>\n",
       "      <th>Director</th>\n",
       "      <th>Genre</th>\n",
       "      <th>Release Date</th>\n",
       "      <th>Duration</th>\n",
       "      <th>Rating</th>\n",
       "      <th>Release Year</th>\n",
       "    </tr>\n",
       "  </thead>\n",
       "  <tbody>\n",
       "    <tr>\n",
       "      <th>0</th>\n",
       "      <td>Key entire popular.</td>\n",
       "      <td>Anthony Becker</td>\n",
       "      <td>Horror</td>\n",
       "      <td>1981-05-12</td>\n",
       "      <td>102</td>\n",
       "      <td>6.8</td>\n",
       "      <td>1981</td>\n",
       "    </tr>\n",
       "    <tr>\n",
       "      <th>1</th>\n",
       "      <td>Gun husband reveal.</td>\n",
       "      <td>William Johnson</td>\n",
       "      <td>Documentary</td>\n",
       "      <td>2016-06-13</td>\n",
       "      <td>92</td>\n",
       "      <td>7.6</td>\n",
       "      <td>2016</td>\n",
       "    </tr>\n",
       "  </tbody>\n",
       "</table>\n",
       "</div>"
      ],
      "text/plain": [
       "                 Title         Director        Genre Release Date  Duration  \\\n",
       "0  Key entire popular.   Anthony Becker       Horror   1981-05-12       102   \n",
       "1  Gun husband reveal.  William Johnson  Documentary   2016-06-13        92   \n",
       "\n",
       "   Rating Release Year  \n",
       "0     6.8         1981  \n",
       "1     7.6         2016  "
      ]
     },
     "execution_count": 15,
     "metadata": {},
     "output_type": "execute_result"
    }
   ],
   "source": [
    "mov.head(2)"
   ]
  },
  {
   "cell_type": "code",
   "execution_count": 16,
   "id": "973288df-b424-49d6-9d82-e30f91d47d54",
   "metadata": {},
   "outputs": [
    {
     "data": {
      "text/plain": [
       "Release Year  Title                  Director           Genre      Release Date  Duration  Rating\n",
       "1980          According piece.       Derrick Kirk       Fantasy    1980-07-01    63        8.1       1\n",
       "              Act meet.              Kayla Weaver       Drama      1980-12-11    98        9.3       1\n",
       "              Mind no us knowledge.  Courtney Ross      Horror     1980-11-30    88        8.4       1\n",
       "              Local.                 Christopher Ortiz  Comedy     1980-10-13    172       8.8       1\n",
       "              Live fact peace.       Kelly Lawson       Horror     1980-09-09    108       9.3       1\n",
       "                                                                                                    ..\n",
       "2020          Likely line.           Craig Jenkins      Sci-Fi     2020-01-17    157       9.2       1\n",
       "              Like season.           Brandon Mckay      Drama      2020-03-07    173       9.4       1\n",
       "              Like must so.          Samantha Williams  Drama      2020-06-17    150       8.5       1\n",
       "              Life throughout.       Luis Moody         Adventure  2020-11-01    148       9.7       1\n",
       "              Would him ok.          Michael Foster     Adventure  2020-02-02    91        9.7       1\n",
       "Name: count, Length: 6829, dtype: int64"
      ]
     },
     "execution_count": 16,
     "metadata": {},
     "output_type": "execute_result"
    }
   ],
   "source": [
    "mov[(mov['Rating'] >=8.0) & (mov['Rating'] <=10.0)].groupby('Release Year').value_counts()\n"
   ]
  },
  {
   "cell_type": "markdown",
   "id": "f8e0b4c0-b97a-429c-9afa-e106a7d6e525",
   "metadata": {},
   "source": [
    "#  Total hit films of each director"
   ]
  },
  {
   "cell_type": "code",
   "execution_count": 17,
   "id": "0f271bff-68ad-4b10-a792-5947541bee15",
   "metadata": {},
   "outputs": [],
   "source": [
    "m = mov[(mov['Rating'] >=8.0) & (mov['Rating'] <=10.0)].groupby('Director').count()"
   ]
  },
  {
   "cell_type": "code",
   "execution_count": 18,
   "id": "cf01ee4d-7d62-4c90-9912-2f75655abcf6",
   "metadata": {},
   "outputs": [
    {
     "data": {
      "text/plain": [
       "Director\n",
       "Aaron Arias          1\n",
       "Aaron Bullock        1\n",
       "Aaron Campbell       1\n",
       "Aaron Contreras      1\n",
       "Aaron Davis          1\n",
       "                    ..\n",
       "Zachary Rodriguez    1\n",
       "Zachary Waller       1\n",
       "Zachary Wheeler      1\n",
       "Zoe Bailey           1\n",
       "Zoe Berger           1\n",
       "Name: Title, Length: 6511, dtype: int64"
      ]
     },
     "execution_count": 18,
     "metadata": {},
     "output_type": "execute_result"
    }
   ],
   "source": [
    "m['Title'] "
   ]
  },
  {
   "cell_type": "markdown",
   "id": "30cfb96b-5eda-490b-bf8e-ee54ebead827",
   "metadata": {},
   "source": [
    "#  What is the average duration of the movies"
   ]
  },
  {
   "cell_type": "code",
   "execution_count": 19,
   "id": "e15855e5-8350-42d0-80c0-d8b9f2563d82",
   "metadata": {},
   "outputs": [
    {
     "data": {
      "text/plain": [
       "120.13"
      ]
     },
     "execution_count": 19,
     "metadata": {},
     "output_type": "execute_result"
    }
   ],
   "source": [
    "mov['Duration'].mean().round(2)"
   ]
  },
  {
   "cell_type": "markdown",
   "id": "f86de892-c9db-40a9-91cf-41c7d9b0919a",
   "metadata": {},
   "source": [
    "# Who is the director of the oldest movie"
   ]
  },
  {
   "cell_type": "code",
   "execution_count": 20,
   "id": "dfaa1e07-71a7-469e-9c80-d3abc2786795",
   "metadata": {},
   "outputs": [
    {
     "data": {
      "text/html": [
       "<div>\n",
       "<style scoped>\n",
       "    .dataframe tbody tr th:only-of-type {\n",
       "        vertical-align: middle;\n",
       "    }\n",
       "\n",
       "    .dataframe tbody tr th {\n",
       "        vertical-align: top;\n",
       "    }\n",
       "\n",
       "    .dataframe thead th {\n",
       "        text-align: right;\n",
       "    }\n",
       "</style>\n",
       "<table border=\"1\" class=\"dataframe\">\n",
       "  <thead>\n",
       "    <tr style=\"text-align: right;\">\n",
       "      <th></th>\n",
       "      <th>Title</th>\n",
       "      <th>Director</th>\n",
       "    </tr>\n",
       "  </thead>\n",
       "  <tbody>\n",
       "    <tr>\n",
       "      <th>20969</th>\n",
       "      <td>Far collection shoulder.</td>\n",
       "      <td>Manuel Maldonado</td>\n",
       "    </tr>\n",
       "  </tbody>\n",
       "</table>\n",
       "</div>"
      ],
      "text/plain": [
       "                          Title          Director\n",
       "20969  Far collection shoulder.  Manuel Maldonado"
      ]
     },
     "execution_count": 20,
     "metadata": {},
     "output_type": "execute_result"
    }
   ],
   "source": [
    "mov[mov['Release Date'] == mov['Release Date'].min()][['Title','Director']]"
   ]
  },
  {
   "cell_type": "markdown",
   "id": "e3fb44e6-cee1-47f6-a51b-4961cbbe03b7",
   "metadata": {},
   "source": [
    "# What is the title of the longest movie in terms of duration"
   ]
  },
  {
   "cell_type": "code",
   "execution_count": 21,
   "id": "f614a869-9c65-4963-a609-faf34afd7f11",
   "metadata": {},
   "outputs": [],
   "source": [
    "b = mov[mov['Duration']==mov['Duration'].max()][['Title','Duration']]"
   ]
  },
  {
   "cell_type": "code",
   "execution_count": 22,
   "id": "fd5a24e1-b84a-4721-899a-5a75043a5ee6",
   "metadata": {},
   "outputs": [
    {
     "data": {
      "text/html": [
       "<div>\n",
       "<style scoped>\n",
       "    .dataframe tbody tr th:only-of-type {\n",
       "        vertical-align: middle;\n",
       "    }\n",
       "\n",
       "    .dataframe tbody tr th {\n",
       "        vertical-align: top;\n",
       "    }\n",
       "\n",
       "    .dataframe thead th {\n",
       "        text-align: right;\n",
       "    }\n",
       "</style>\n",
       "<table border=\"1\" class=\"dataframe\">\n",
       "  <thead>\n",
       "    <tr style=\"text-align: right;\">\n",
       "      <th></th>\n",
       "      <th>Title</th>\n",
       "      <th>Duration</th>\n",
       "    </tr>\n",
       "  </thead>\n",
       "  <tbody>\n",
       "    <tr>\n",
       "      <th>111</th>\n",
       "      <td>Large leg we.</td>\n",
       "      <td>180</td>\n",
       "    </tr>\n",
       "    <tr>\n",
       "      <th>505</th>\n",
       "      <td>Land guy carry.</td>\n",
       "      <td>180</td>\n",
       "    </tr>\n",
       "    <tr>\n",
       "      <th>508</th>\n",
       "      <td>Newspaper brother.</td>\n",
       "      <td>180</td>\n",
       "    </tr>\n",
       "    <tr>\n",
       "      <th>587</th>\n",
       "      <td>Involve list admit.</td>\n",
       "      <td>180</td>\n",
       "    </tr>\n",
       "    <tr>\n",
       "      <th>595</th>\n",
       "      <td>Two up child.</td>\n",
       "      <td>180</td>\n",
       "    </tr>\n",
       "    <tr>\n",
       "      <th>...</th>\n",
       "      <td>...</td>\n",
       "      <td>...</td>\n",
       "    </tr>\n",
       "    <tr>\n",
       "      <th>29327</th>\n",
       "      <td>Provide research out.</td>\n",
       "      <td>180</td>\n",
       "    </tr>\n",
       "    <tr>\n",
       "      <th>29334</th>\n",
       "      <td>Tend.</td>\n",
       "      <td>180</td>\n",
       "    </tr>\n",
       "    <tr>\n",
       "      <th>29376</th>\n",
       "      <td>Draw.</td>\n",
       "      <td>180</td>\n",
       "    </tr>\n",
       "    <tr>\n",
       "      <th>29550</th>\n",
       "      <td>Officer road sea dream.</td>\n",
       "      <td>180</td>\n",
       "    </tr>\n",
       "    <tr>\n",
       "      <th>29910</th>\n",
       "      <td>Man learn.</td>\n",
       "      <td>180</td>\n",
       "    </tr>\n",
       "  </tbody>\n",
       "</table>\n",
       "<p>259 rows × 2 columns</p>\n",
       "</div>"
      ],
      "text/plain": [
       "                         Title  Duration\n",
       "111              Large leg we.       180\n",
       "505            Land guy carry.       180\n",
       "508         Newspaper brother.       180\n",
       "587        Involve list admit.       180\n",
       "595              Two up child.       180\n",
       "...                        ...       ...\n",
       "29327    Provide research out.       180\n",
       "29334                    Tend.       180\n",
       "29376                    Draw.       180\n",
       "29550  Officer road sea dream.       180\n",
       "29910               Man learn.       180\n",
       "\n",
       "[259 rows x 2 columns]"
      ]
     },
     "execution_count": 22,
     "metadata": {},
     "output_type": "execute_result"
    }
   ],
   "source": [
    "b"
   ]
  },
  {
   "cell_type": "code",
   "execution_count": 23,
   "id": "b1c52dcc-c8be-4e62-9ce1-00a30b87486a",
   "metadata": {},
   "outputs": [
    {
     "data": {
      "text/plain": [
       "259"
      ]
     },
     "execution_count": 23,
     "metadata": {},
     "output_type": "execute_result"
    }
   ],
   "source": [
    "b['Title'].count()"
   ]
  },
  {
   "cell_type": "markdown",
   "id": "b3313216-f64c-4809-a944-a69ba9f2836f",
   "metadata": {},
   "source": [
    "#  Which movie was released most recently?"
   ]
  },
  {
   "cell_type": "code",
   "execution_count": 24,
   "id": "1a5d6dd3-58cb-45e8-bb9a-939c324e6f06",
   "metadata": {},
   "outputs": [
    {
     "data": {
      "text/html": [
       "<div>\n",
       "<style scoped>\n",
       "    .dataframe tbody tr th:only-of-type {\n",
       "        vertical-align: middle;\n",
       "    }\n",
       "\n",
       "    .dataframe tbody tr th {\n",
       "        vertical-align: top;\n",
       "    }\n",
       "\n",
       "    .dataframe thead th {\n",
       "        text-align: right;\n",
       "    }\n",
       "</style>\n",
       "<table border=\"1\" class=\"dataframe\">\n",
       "  <thead>\n",
       "    <tr style=\"text-align: right;\">\n",
       "      <th></th>\n",
       "      <th>Title</th>\n",
       "      <th>Release Date</th>\n",
       "      <th>Director</th>\n",
       "    </tr>\n",
       "  </thead>\n",
       "  <tbody>\n",
       "    <tr>\n",
       "      <th>19158</th>\n",
       "      <td>Fast.</td>\n",
       "      <td>2020-12-30</td>\n",
       "      <td>Madeline Casey</td>\n",
       "    </tr>\n",
       "  </tbody>\n",
       "</table>\n",
       "</div>"
      ],
      "text/plain": [
       "       Title Release Date        Director\n",
       "19158  Fast.   2020-12-30  Madeline Casey"
      ]
     },
     "execution_count": 24,
     "metadata": {},
     "output_type": "execute_result"
    }
   ],
   "source": [
    "mov[mov['Release Date'] == mov['Release Date'].max()][['Title','Release Date','Director']]"
   ]
  },
  {
   "cell_type": "markdown",
   "id": "b6a39c1a-e7b7-4066-ba58-a8fa32a54d29",
   "metadata": {},
   "source": [
    "# Which movie has the longest title?"
   ]
  },
  {
   "cell_type": "code",
   "execution_count": 25,
   "id": "90b6ca7c-cb70-4ff4-9de3-e62edf721cb7",
   "metadata": {},
   "outputs": [],
   "source": [
    "mov['Title_len']= mov['Title'].apply(lambda x : len(x.strip()))"
   ]
  },
  {
   "cell_type": "code",
   "execution_count": 26,
   "id": "772985ff-cf58-4a62-a467-4b31115b6655",
   "metadata": {},
   "outputs": [
    {
     "data": {
      "text/plain": [
       "Title\n",
       "Young management administration organization.    1\n",
       "Organization town traditional administration.    1\n",
       "Name: count, dtype: int64"
      ]
     },
     "execution_count": 26,
     "metadata": {},
     "output_type": "execute_result"
    }
   ],
   "source": [
    "mov['Title'].apply(lambda x : x if len(x.strip()) == mov['Title_len'].max() else None  ).value_counts()"
   ]
  },
  {
   "cell_type": "markdown",
   "id": "aa16383b-ee57-4922-ae9e-fa35109297cb",
   "metadata": {},
   "source": [
    "# How many movies were released before the year 2000?"
   ]
  },
  {
   "cell_type": "code",
   "execution_count": 27,
   "id": "d00ceaf3-72b2-4b36-ad29-b307131443ac",
   "metadata": {},
   "outputs": [
    {
     "data": {
      "text/plain": [
       "Title    736\n",
       "dtype: int64"
      ]
     },
     "execution_count": 27,
     "metadata": {},
     "output_type": "execute_result"
    }
   ],
   "source": [
    "mov[mov['Release Year']=='2000'][['Title']].count()"
   ]
  },
  {
   "cell_type": "markdown",
   "id": "2e6cbf57-a75c-4078-970f-6478739dc32c",
   "metadata": {},
   "source": [
    "# In which range of IMDb Rating are movies most commonly rated?"
   ]
  },
  {
   "cell_type": "code",
   "execution_count": 31,
   "id": "f63564ea-df66-4042-b1f2-3721dc4628a4",
   "metadata": {},
   "outputs": [
    {
     "name": "stderr",
     "output_type": "stream",
     "text": [
      "C:\\Users\\user\\AppData\\Local\\Temp\\ipykernel_7128\\565847798.py:7: FutureWarning: \n",
      "\n",
      "Passing `palette` without assigning `hue` is deprecated and will be removed in v0.14.0. Assign the `x` variable to `hue` and set `legend=False` for the same effect.\n",
      "\n",
      "  sns.countplot(x = 'score_range', data = mov, palette = 'Set2')\n"
     ]
    },
    {
     "data": {
      "image/png": "[encoded data removed]",
      "text/plain": [
       "<Figure size 1200x700 with 1 Axes>"
      ]
     },
     "metadata": {},
     "output_type": "display_data"
    }
   ],
   "source": [
    "bins = [i for i in range(0,11)]\n",
    "labels = ['0-1', '1-2', '2-3', '3-4', '4-5', '5-6', '6-7', '7-8', '8-9', '9-10']\n",
    "mov['score_range'] = pd.cut(mov['Rating'], bins = bins, labels = labels)\n",
    "\n",
    "# Plot a bar chart of movie counts by IMDb score range\n",
    "plt.figure(figsize = (12,7))\n",
    "sns.countplot(x = 'score_range', data = mov, palette = 'Set2')\n",
    "plt.title('Number of Movies by IMDb Ratings Range')\n",
    "plt.xlabel('IMDb Score Range')\n",
    "plt.ylabel('Number of Movies')\n",
    "plt.savefig('number_of_movies_by_imdb_score_range.jpg',dpi = 300, bbox_inches = 'tight')\n",
    "plt.show()"
   ]
  },
  {
   "cell_type": "markdown",
   "id": "d9936db4-57c5-4231-b480-1744e4a0c25c",
   "metadata": {},
   "source": [
    "# Which genres have the highest average ratings?"
   ]
  },
  {
   "cell_type": "code",
   "execution_count": 33,
   "id": "7bdaf706-0e1f-4bbe-82a2-e8b14840c948",
   "metadata": {},
   "outputs": [
    {
     "data": {
      "text/plain": [
       "Genre\n",
       "Action        5.5\n",
       "Adventure     5.5\n",
       "Comedy        5.5\n",
       "Documentary   5.6\n",
       "Drama         5.5\n",
       "Fantasy       5.5\n",
       "Horror        5.5\n",
       "Romance       5.5\n",
       "Sci-Fi        5.5\n",
       "Thriller      5.5\n",
       "Name: Rating, dtype: float64"
      ]
     },
     "execution_count": 33,
     "metadata": {},
     "output_type": "execute_result"
    }
   ],
   "source": [
    "avg_score_by_genre = mov['Rating'].groupby(mov['Genre']).mean()\n",
    "avg_score_by_genre"
   ]
  },
  {
   "cell_type": "code",
   "execution_count": null,
   "id": "394143bb-e9fb-4597-9232-6e1db8053164",
   "metadata": {},
   "outputs": [],
   "source": []
  }
 ],
 "metadata": {
  "kernelspec": {
   "display_name": "Python 3 (ipykernel)",
   "language": "python",
   "name": "python3"
  },
  "language_info": {
   "codemirror_mode": {
    "name": "ipython",
    "version": 3
   },
   "file_extension": ".py",
   "mimetype": "text/x-python",
   "name": "python",
   "nbconvert_exporter": "python",
   "pygments_lexer": "ipython3",
   "version": "3.11.7"
  }
 },
 "nbformat": 4,
 "nbformat_minor": 5
}
